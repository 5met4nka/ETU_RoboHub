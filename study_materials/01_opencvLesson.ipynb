{
 "cells": [
  {
   "cell_type": "markdown",
   "metadata": {},
   "source": [
    "# OpenCV. Техническое зрение робота "
   ]
  },
  {
   "cell_type": "markdown",
   "metadata": {},
   "source": [
    "## 1. ⚡ Основы компьютерного зрения"
   ]
  },
  {
   "cell_type": "markdown",
   "metadata": {},
   "source": [
    "Компьютерное зрение - это область искусственного интеллекта, которая занимается обработкой и анализом изображений. Основной целью компьютерного зрения является получение информации из изображений и использование ее для принятия решений.\n",
    "\n",
    "Методы\n",
    "\n",
    "- `cv2.imread()`: чтение изображения из файла\n",
    "\n",
    "  - `filename`: Имя файла, из которого нужно прочитать изображение. Это может быть строка или байтовая строка.\n",
    "  - `flags`: Необязательный флаг, который указывает цветовой формат изображения. Возможные значения:\n",
    "  `cv2.IMREAD_COLOR`: Загружает изображение в цветовом формате BGR (по умолчанию).\n",
    "  `cv2.IMREAD_GRAYSCALE`: Загружает изображение в формате оттенков серого.\n",
    "  `cv2.IMREAD_UNCHANGED`: Загружает изображение в его исходном формате.\n",
    "  - Возвращает: 3-мерный массив `NumPy`, представляющий изображение.\n",
    "\n",
    "\n",
    "- `cv2.imshow()`: вывод изображения на экран\n",
    "- `cv2.waitKey()`: ожидание нажатия клавиши\n",
    "\n",
    "  `delay` - время ожидания нажатия клавиши в миллисекундах. Если `delay` равен 0, функция будет ожидать бесконечно.\n",
    "\n",
    "- `cv2.destroyAllWindows()`: закрытие всех окон"
   ]
  },
  {
   "cell_type": "code",
   "execution_count": 19,
   "metadata": {},
   "outputs": [],
   "source": [
    "import cv2\n",
    "\n",
    "img = cv2.imread('../assets/opencv/opencv_img.png')\n",
    "cv2.imshow('Image', img)\n",
    "cv2.waitKey(0)\n",
    "cv2.destroyAllWindows()"
   ]
  },
  {
   "cell_type": "markdown",
   "metadata": {},
   "source": [
    "## ⚡ 1.2. Создание изображений\n",
    "\n",
    "Изображения можно создавать с помощью библиотеки NumPy.\n",
    "\n",
    "Методы: \n",
    "\n",
    "- `np.zeros()`: создание массива нулей\n",
    "- `np.full()`: создание массива с заданным значением"
   ]
  },
  {
   "cell_type": "code",
   "execution_count": 3,
   "metadata": {},
   "outputs": [],
   "source": [
    "import numpy as np\n",
    "import cv2\n",
    "\n",
    "# Создание черного изображения размером 200x200\n",
    "black_img = np.zeros((200, 200, 3), np.uint8)\n",
    "\n",
    "# Создание белого изображения размером 200x200\n",
    "white_img = np.full((200, 200, 3), 255, np.uint8)\n",
    "\n",
    "# Вывод изображения на экран\n",
    "cv2.imshow('Black image', black_img)\n",
    "cv2.imshow('White image', white_img)\n",
    "cv2.waitKey(5000)\n",
    "cv2.destroyAllWindows()"
   ]
  },
  {
   "cell_type": "markdown",
   "metadata": {},
   "source": [
    "## ⚡ 1.3. Фильтры изображений\n",
    "Фильтры изображений используются для обработки изображений и удаления шума.\n",
    "\n",
    "- `cv2.blur()` - Простое размытие изображения\n",
    "Параметры:\n",
    "  - `src`: исходное изображение\n",
    "  - `ksize`: размер ядра размытия (например, (5, 5) для размытия 5x5 пикселей)\n",
    "Возвращает: размытое изображение\n",
    "Пример: cv2.blur(img, (5, 5))\n",
    "\n",
    "- `cv2.medianBlur()` - Медианный фильтр\n",
    "Параметры:\n",
    "  - `src`: исходное изображение\n",
    "  - `ksize`: размер ядра медианного фильтра (например, 5 для медианного фильтра 5x5 пикселей)\n",
    "Возвращает: изображение после применения медианного фильтра\n",
    "Пример: cv2.medianBlur(img, 5)\n",
    "\n",
    "- `cv2.GaussianBlur()` - Размытие по Гауссу\n",
    "Параметры:\n",
    "  - `src`: исходное изображение\n",
    "  - `ksize`: размер ядра размытия по Гауссу (например, (5, 5) для размытия 5x5 пикселей)\n",
    "  - `sigmaX`: стандартное отклонение по оси X (по умолчанию 0)\n",
    "  - `sigmaY`: стандартное отклонение по оси Y (по умолчанию 0)\n",
    "Возвращает: размытое изображение\n"
   ]
  },
  {
   "cell_type": "code",
   "execution_count": 1,
   "metadata": {},
   "outputs": [],
   "source": [
    "import cv2\n",
    "\n",
    "img = cv2.imread('../assets/opencv/blur_img.png')\n",
    "\n",
    "# Простое размытие изображения\n",
    "blurred_img = cv2.blur(img, (5, 5))\n",
    "\n",
    "# Медианный фильтр\n",
    "median_blurred_img = cv2.medianBlur(img, 5)\n",
    "\n",
    "# Размытие по Гауссу\n",
    "gaussian_blurred_img = cv2.GaussianBlur(img, (5, 5), 0)\n",
    "\n",
    "# Вывод изображений на экран\n",
    "cv2.imshow('Original', img)\n",
    "cv2.imshow('Blurred', blurred_img)\n",
    "cv2.imshow('Median Blurred', median_blurred_img)\n",
    "cv2.imshow('Gaussian Blurred', gaussian_blurred_img)\n",
    "cv2.waitKey(0)\n",
    "cv2.destroyAllWindows()"
   ]
  },
  {
   "cell_type": "markdown",
   "metadata": {},
   "source": [
    "> 🦾 Давайте теперь сравним, как же метод фильтрации дает максимальный результат? Поиграйтесь с аргументами каждого фильтра и постарайтесь добиться наибольшего размытия на итоговом изображении"
   ]
  },
  {
   "cell_type": "markdown",
   "metadata": {},
   "source": [
    "## 1.4. Сглаживание изображений\n",
    "Двусторонний фильтр - это нелинейный фильтр, который уменьшает шум в изображении, сохраняя при этом края. Он работает, вычисляя взвешенную сумму соседних пикселей, где веса зависят от разницы в цвете и пространственном расстоянии между пикселями.\n",
    "Метод `cv2.bilateralFilter()` применяет двусторонний фильтр к изображению, чтобы уменьшить шум и сохранить края.\n",
    "\n",
    "Аргументы:\n",
    "- `src`: исходное изображение.\n",
    "- `d`: диаметр соседства пикселей, используемых для вычисления фильтра.\n",
    "- `sigmaColor`: стандартное отклонение цвета в пространстве цвета.\n",
    "- `sigmaSpace`: стандартное отклонение координат в пространстве координат."
   ]
  },
  {
   "cell_type": "code",
   "execution_count": 2,
   "metadata": {},
   "outputs": [],
   "source": [
    "import cv2\n",
    "\n",
    "img = cv2.imread('../assets/opencv/blur_img.png')\n",
    "\n",
    "# Двусторонний фильтр\n",
    "bilateral_filtered_img = cv2.bilateralFilter(img, 5, 50, 50)\n",
    "\n",
    "# Вывод изображений на экран\n",
    "cv2.imshow('Original', img)\n",
    "cv2.imshow('Bilateral Filtered', bilateral_filtered_img)\n",
    "cv2.waitKey(0)\n",
    "cv2.destroyAllWindows()"
   ]
  },
  {
   "cell_type": "markdown",
   "metadata": {},
   "source": [
    "> 🦾 Постарайтесь, используя метод `bilateralFilter` максимально сгладить исходное изображение"
   ]
  },
  {
   "cell_type": "markdown",
   "metadata": {},
   "source": [
    "## ⚡ 1.5. Обработка изображений в реальном времени\n",
    "Обработка изображений в реальном времени - это процесс обработки изображений в режиме реального времени, например, с помощью камеры.\n",
    "\n",
    "Методы\n",
    "\n",
    "- `cv2.VideoCapture()`: чтение видеопотока из файла или камеры\n",
    "- `cv2.imshow()`: отображение изображения в окне\n",
    "- `cv2.waitKey()`: ожидание нажатия клавиши"
   ]
  },
  {
   "cell_type": "code",
   "execution_count": null,
   "metadata": {},
   "outputs": [],
   "source": [
    "import cv2\n",
    "\n",
    "# Чтение видеопотока из камеры\n",
    "cap = cv2.VideoCapture(0)\n",
    "\n",
    "while True:\n",
    "    # Чтение кадра из видеопотока\n",
    "    ret, frame = cap.read()\n",
    "\n",
    "    # Обработка кадра\n",
    "    gray = cv2.cvtColor(frame, cv2.COLOR_BGR2GRAY)\n",
    "\n",
    "    # Отображение кадра\n",
    "    cv2.imshow('Video frame', gray)\n",
    "\n",
    "    # Ожидание нажатия клавиши\n",
    "    if cv2.waitKey(1) & 0xFF == ord('q'):\n",
    "        break\n",
    "\n",
    "# Закрытие окна\n",
    "cv2.destroyAllWindows()"
   ]
  },
  {
   "cell_type": "markdown",
   "metadata": {},
   "source": [
    "## 🐤 Работаем самостоятельно"
   ]
  },
  {
   "cell_type": "markdown",
   "metadata": {},
   "source": [
    "### 💬 Задача №1.1\n",
    "\n",
    "С помощью средств библиотек OpenCV и NumPy создайте изображение шахматной доски шириной в 5 клетки и длиной в 5 клеток. Пусть верхний левый квадрат будет фиолетовым, а его сосед справа - белым. Дальше чередуйте эти цвета в шахматном порядке. Сохраните его на компьютере (с помощью `imwrite`)."
   ]
  },
  {
   "cell_type": "code",
   "execution_count": null,
   "metadata": {},
   "outputs": [],
   "source": [
    "## TODO"
   ]
  },
  {
   "cell_type": "markdown",
   "metadata": {},
   "source": [
    "### 💬 Задача №1.2\n",
    "\n",
    "Используя известные Вам фильтры, очистить изображение от белых точек\n",
    "\n",
    "<p align=\"center\">\n",
    "  <img width=\"600\" height=\"480\" src=\"../assets/opencv/img_to_clean_opencv.png\">\n",
    "</p>\n"
   ]
  },
  {
   "cell_type": "code",
   "execution_count": null,
   "metadata": {},
   "outputs": [],
   "source": [
    "## TODO"
   ]
  },
  {
   "cell_type": "markdown",
   "metadata": {},
   "source": [
    "## ⚡ 2.1. Пороговая обработка\n",
    "\n",
    "Пороговая обработка - это процесс преобразования изображения в бинарное изображение, где пиксели имеют значения либо 0 (чёрный), либо 255 (белый). Это полезно для отделения объектов от фона.\n",
    "\n",
    "Методы\n",
    "\n",
    "- `cv2.threshold()`: порог к изображению\n",
    "  - `cv2.THRESH_BINARY`: бинарный порог\n",
    "  - `cv2.THRESH_BINARY_INV`: инверсный бинарный порог\n",
    "  - `cv2.THRESH_TRUNC`: обрезает значения пикселей выше порога\n",
    "  - `cv2.THRESH_TOZERO`: устанавливает значения пикселей ниже порога в 0\n",
    "  - `cv2.THRESH_TOZERO_INV`: устанавливает значения пикселей выше порога в 0"
   ]
  },
  {
   "cell_type": "code",
   "execution_count": 3,
   "metadata": {},
   "outputs": [],
   "source": [
    "import cv2\n",
    "\n",
    "img = cv2.imread('../assets/opencv/draw_contours.png')\n",
    "img = cv2.cvtColor(img, cv2.COLOR_BGR2GRAY)\n",
    "\n",
    "# Применение бинарного порога\n",
    "_, thresh = cv2.threshold(img, 127, 255, cv2.THRESH_BINARY)\n",
    "\n",
    "# Применение инверсного бинарного порога\n",
    "_, thresh_inv = cv2.threshold(img, 127, 255, cv2.THRESH_BINARY_INV)\n",
    "\n",
    "# Отображение результатов\n",
    "cv2.imshow('Original', img)\n",
    "cv2.imshow('Threshold', thresh)\n",
    "cv2.imshow('Threshold inv', thresh_inv)\n",
    "cv2.waitKey(0)\n",
    "cv2.destroyAllWindows()"
   ]
  },
  {
   "cell_type": "markdown",
   "metadata": {},
   "source": [
    "> 🦾 Посмотрите, как изменение аргументов в `cv2.threshold` влияет на преобразование исходного изображения в бинарное. Постарайтесь добиться максимального результата"
   ]
  },
  {
   "cell_type": "markdown",
   "metadata": {},
   "source": [
    "## ⚡ 2.2. Адаптивная пороговая обработка\n",
    "\n",
    "Адаптивная пороговая обработка - это процесс пороговой обработки изображения на основе локальных значений пикселей. Это полезно для изображений с переменными условиями освещения.\n",
    "\n",
    "Методы\n",
    "\n",
    "- `cv2.adaptiveThreshold()`:  адаптивный порог к изображению\n",
    "- `cv2.ADAPTIVE_THRESH_MEAN_C`: использует среднее значение соседних пикселей как порог\n",
    "- `cv2.ADAPTIVE_THRESH_GAUSSIAN_C`: использует взвешенную сумму соседних пикселей как порог\n"
   ]
  },
  {
   "cell_type": "code",
   "execution_count": 1,
   "metadata": {},
   "outputs": [],
   "source": [
    "import cv2\n",
    "\n",
    "# Чтение изображения\n",
    "img = cv2.imread('../assets/opencv/draw_contours.png')\n",
    "img = cv2.cvtColor(img, cv2.COLOR_BGR2GRAY)\n",
    "\n",
    "# Применение адаптивного порога с использованием среднего значения\n",
    "thresh_mean = cv2.adaptiveThreshold(img, 255, cv2.ADAPTIVE_THRESH_MEAN_C, cv2.THRESH_BINARY, 21, 2)\n",
    "\n",
    "# Применение адаптивного порога с использованием взвешенной суммы\n",
    "thresh_gaussian = cv2.adaptiveThreshold(img, 255, cv2.ADAPTIVE_THRESH_GAUSSIAN_C, cv2.THRESH_BINARY, 11, 2)\n",
    "\n",
    "# Отображение результатов\n",
    "cv2.imshow('Original', img)\n",
    "cv2.imshow('Adaptive thresh mean', thresh_mean)\n",
    "cv2.imshow('Gaussian Adaptive thresh', thresh_gaussian)\n",
    "cv2.waitKey(0)\n",
    "cv2.destroyAllWindows()"
   ]
  },
  {
   "cell_type": "markdown",
   "metadata": {},
   "source": [
    "> 🦾 Посмотрите, как изменение аргументов в `cv2.adaptiveThreshold` влияет на преобразование исходного изображения. Постарайтесь добиться максимального результата"
   ]
  },
  {
   "cell_type": "markdown",
   "metadata": {},
   "source": [
    "## ⚡ 2.3. Обнаружение границ\n",
    "Обнаружение границ - это процесс нахождения границ между объектами на изображении.\n",
    "\n",
    "Методы\n",
    "\n",
    "- `cv2.Canny()`: применяет алгоритм обнаружения границ Кенни\n",
    "- `cv2.Sobel()`: применяет алгоритм обнаружения границ Собеля"
   ]
  },
  {
   "cell_type": "code",
   "execution_count": 12,
   "metadata": {},
   "outputs": [],
   "source": [
    "import cv2\n",
    "\n",
    "# Чтение изображения\n",
    "img = cv2.imread('../assets/opencv/draw_contours.png')\n",
    "img = cv2.cvtColor(img, cv2.COLOR_BGR2GRAY)\n",
    "\n",
    "# Применение алгоритма обнаружения границ Кенни\n",
    "edges_canny = cv2.Canny(img, 50, 150)\n",
    "\n",
    "# Применение алгоритма обнаружения границ Собеля\n",
    "edges_sobel = cv2.Sobel(img, cv2.CV_8U, 1, 0, ksize=5)\n",
    "\n",
    "# Отображение результатов\n",
    "cv2.imshow('Original', img)\n",
    "cv2.imshow('Canny edge', edges_canny)\n",
    "cv2.imshow('Sobel edge', edges_sobel)\n",
    "cv2.waitKey(0)\n",
    "cv2.destroyAllWindows()"
   ]
  },
  {
   "cell_type": "markdown",
   "metadata": {},
   "source": [
    "> 🦾 Посмотрите, как изменение аргументов в `cv2.Canny` и `cv2.Sobel` влияет на детекцию контуров на исходном изображение. Постарайтесь добиться максимального результата"
   ]
  },
  {
   "cell_type": "markdown",
   "metadata": {},
   "source": [
    "## ⚡ 2.4. Обнаружение контуров\n",
    "\n",
    "Обнаружение контуров - это процесс нахождения границ объектов на изображении.\n",
    "\n",
    "Методы\n",
    "\n",
    "- `cv2.findContours()`: находит контуры на изображении\n",
    "- `cv2.drawContours()`: рисует контуры на изображении"
   ]
  },
  {
   "cell_type": "markdown",
   "metadata": {},
   "source": [
    "Параметры функции `cv2.findContours()`\n",
    "\n",
    "- `image`: изображение, на котором нужно найти контуры\n",
    "- `mode`: режим нахождения контуров (например, cv2.RETR_EXTERNAL для нахождения внешних контуров)\n",
    "- `method`: метод нахождения контуров (например, cv2.CHAIN_APPROX_SIMPLE для упрощения контуров)\n",
    "\n",
    "Параметры функции `cv2.drawContours()`\n",
    "\n",
    "-`image`: изображение, на котором нужно нарисовать контуры\n",
    "-`contours`: контуры, которые нужно нарисовать\n",
    "-`index`: индекс контура, который нужно нарисовать (например, -1 для рисования всех контуров)\n",
    "-`color`: цвет, которым нужно рисовать контуры\n",
    "-`thickness`: толщина контуров\n",
    "\n",
    "Примечания\n",
    "\n",
    "Функция `cv2.findContours()` возвращает список контуров и иерархию контуров.\n",
    "Функция `cv2.drawContours()` рисует контуры на изображении."
   ]
  },
  {
   "cell_type": "code",
   "execution_count": 36,
   "metadata": {},
   "outputs": [],
   "source": [
    "import cv2\n",
    "\n",
    "# Чтение изображения\n",
    "img = cv2.imread('../assets/opencv/shapes-small.jpg')\n",
    "\n",
    "# Преобразование изображения в градации серого\n",
    "gray = cv2.cvtColor(img, cv2.COLOR_BGR2GRAY)\n",
    "\n",
    "# Применение пороговой обработки\n",
    "_, thresh = cv2.threshold(gray, 10, 255, cv2.THRESH_BINARY)\n",
    "# Нахождение контуров на изображении\n",
    "contours, _ = cv2.findContours(thresh, cv2.RETR_EXTERNAL, cv2.CHAIN_APPROX_SIMPLE)\n",
    "\n",
    "# Рисование контуров на изображении\n",
    "cv2.drawContours(img, contours, -1, (0, 255, 0), 2)\n",
    "\n",
    "# Отображение результатов\n",
    "cv2.imshow('Gray image original', gray)\n",
    "cv2.imshow('Binary image', thresh)\n",
    "cv2.imshow('Image with contours', img)\n",
    "cv2.waitKey(0)\n",
    "cv2.destroyAllWindows()"
   ]
  },
  {
   "cell_type": "markdown",
   "metadata": {},
   "source": [
    "> 🦾 Изменяя аргументы в `cv2.threshold` добейтесь того, чтобы каждый контур был выведен на итоговом изображении"
   ]
  },
  {
   "cell_type": "markdown",
   "metadata": {},
   "source": [
    "## ⚡ 2.5. Уже почти все...\n",
    "\n",
    "После того, как мы научились находить контуры на изображении, а также их выделять, остается последняя задача: научиться их обрабатывать. В этом нам поможет пара функций \n",
    "\n",
    "- `cv2.arcLength` - вычисляет длину контура или дуги.\n",
    "\n",
    "  - `curve`: контур или дуга, представленная как массив точек.\n",
    "  - `closed`: логический флаг, указывающий, является ли контур замкнутым.\n",
    "  \n",
    "*Возвращаемое значение: длина контура или дуги.*\n",
    "\n",
    "- `cv2.contourArea` - вычисляет площадь контура.\n",
    "  - `contour`: контур, представленный как массив точек.\n",
    "  - `oriented`: логический флаг, указывающий, следует ли учитывать ориентацию контура при вычислении площади.\n",
    "\n",
    "*Возвращаемое значение: площадь контура.*\n",
    "\n",
    "- `cv2.boundingRect` - вычисляет ограничивающий прямоугольник контура.\n",
    "  - `array`: контур, представленный как массив точек.\n",
    "\n",
    "*Возвращаемое значение: координаты и размеры ограничивающего прямоугольника (x, y, w, h).*\n",
    "\n",
    "- `cv2.minEnclosingCircle` - вычисляет минимально вписывающий круг контура.\n",
    "  - `points`: контур, представленный как массив точек.\n",
    "\n",
    "*Возвращаемое значение: центр и радиус минимально вписывающего круга.*\n"
   ]
  },
  {
   "cell_type": "code",
   "execution_count": 5,
   "metadata": {},
   "outputs": [
    {
     "name": "stdout",
     "output_type": "stream",
     "text": [
      "Длина контура: 160.0\n",
      "Площадь контура: 1600.0\n",
      "Ограничивающий прямоугольник: (10, 10, 41, 41)\n",
      "Центр и радиус минимально вписывающего круга: (30.0, 30.0) 28.28437042236328\n"
     ]
    }
   ],
   "source": [
    "import cv2\n",
    "import numpy as np\n",
    "\n",
    "# Создаем контур\n",
    "contour = np.array([[[10, 10]], [[10, 50]], [[50, 50]], [[50, 10]]])\n",
    "\n",
    "# Вычисляем длину контура\n",
    "length = cv2.arcLength(contour, True)\n",
    "print(\"Длина контура:\", length)\n",
    "\n",
    "# Вычисляем площадь контура\n",
    "area = cv2.contourArea(contour)\n",
    "print(\"Площадь контура:\", area)\n",
    "\n",
    "# Вычисляем ограничивающий прямоугольник контура\n",
    "rect = cv2.boundingRect(contour)\n",
    "print(\"Ограничивающий прямоугольник:\", rect)\n",
    "\n",
    "# Вычисляем минимально вписывающий круг контура\n",
    "(center, radius) = cv2.minEnclosingCircle(contour)\n",
    "print(\"Центр и радиус минимально вписывающего круга:\", center, radius)"
   ]
  },
  {
   "cell_type": "markdown",
   "metadata": {},
   "source": [
    "## 🐤 Работаем самостоятельно"
   ]
  },
  {
   "cell_type": "markdown",
   "metadata": {},
   "source": [
    "### 💬 Задание 2.1\n",
    "\n",
    "Найти и нарисовать контуры на следующем изображении, выделив при этом разными цветами каждую из фигур.\n",
    "\n",
    "<p align=\"center\">\n",
    "  <img width=\"600\" height=\"480\" src=\"../assets/opencv/find_contours.png\">\n",
    "</p>\n"
   ]
  },
  {
   "cell_type": "code",
   "execution_count": null,
   "metadata": {},
   "outputs": [],
   "source": [
    "# TODO"
   ]
  },
  {
   "cell_type": "markdown",
   "metadata": {},
   "source": [
    "### 💬 Задание 2.2\n",
    "\n",
    "Теперь немного усложним задачу: тебе нужно найти контуры на цветном изображении, выделить их и подписать распознанный цвет объекта\n",
    "\n",
    "<p align=\"center\">\n",
    "  <img width=\"800\" height=\"480\" src=\"../assets/opencv/find_cubes.png\">\n",
    "</p>\n"
   ]
  },
  {
   "cell_type": "code",
   "execution_count": null,
   "metadata": {},
   "outputs": [],
   "source": [
    "# TODO"
   ]
  }
 ],
 "metadata": {
  "kernelspec": {
   "display_name": "Python 3",
   "language": "python",
   "name": "python3"
  },
  "language_info": {
   "codemirror_mode": {
    "name": "ipython",
    "version": 3
   },
   "file_extension": ".py",
   "mimetype": "text/x-python",
   "name": "python",
   "nbconvert_exporter": "python",
   "pygments_lexer": "ipython3",
   "version": "3.8.10"
  }
 },
 "nbformat": 4,
 "nbformat_minor": 2
}
