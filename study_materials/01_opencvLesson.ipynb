{
 "cells": [
  {
   "cell_type": "markdown",
   "metadata": {},
   "source": [
    "# OpenCV. Техническое зрение робота "
   ]
  },
  {
   "cell_type": "markdown",
   "metadata": {},
   "source": [
    "## 1. Основы компьютерного зрения"
   ]
  },
  {
   "cell_type": "markdown",
   "metadata": {},
   "source": [
    "Компьютерное зрение - это область искусственного интеллекта, которая занимается обработкой и анализом изображений. Основной целью компьютерного зрения является получение информации из изображений и использование ее для принятия решений.\n",
    "\n",
    "Методы\n",
    "\n",
    "- `cv2.imread()`: чтение изображения из файла\n",
    "\n",
    "  - `filename`: Имя файла, из которого нужно прочитать изображение. Это может быть строка или байтовая строка.\n",
    "  - `flags`: Необязательный флаг, который указывает цветовой формат изображения. Возможные значения:\n",
    "  `cv2.IMREAD_COLOR`: Загружает изображение в цветовом формате BGR (по умолчанию).\n",
    "  `cv2.IMREAD_GRAYSCALE`: Загружает изображение в формате оттенков серого.\n",
    "  `cv2.IMREAD_UNCHANGED`: Загружает изображение в его исходном формате.\n",
    "  - Возвращает: 3-мерный массив `NumPy`, представляющий изображение.\n",
    "\n",
    "\n",
    "- `cv2.imshow()`: вывод изображения на экран\n",
    "- `cv2.waitKey()`: ожидание нажатия клавиши\n",
    "\n",
    "  `delay` - время ожидания нажатия клавиши в миллисекундах. Если `delay` равен 0, функция будет ожидать бесконечно.\n",
    "\n",
    "- `cv2.destroyAllWindows()`: закрытие всех окон"
   ]
  },
  {
   "cell_type": "code",
   "execution_count": 1,
   "metadata": {},
   "outputs": [
    {
     "name": "stderr",
     "output_type": "stream",
     "text": [
      "[ WARN:0@0.022] global loadsave.cpp:248 findDecoder imread_('image.jpg'): can't open/read file: check file path/integrity\n"
     ]
    },
    {
     "ename": "error",
     "evalue": "OpenCV(4.8.1) /io/opencv/modules/highgui/src/window.cpp:971: error: (-215:Assertion failed) size.width>0 && size.height>0 in function 'imshow'\n",
     "output_type": "error",
     "traceback": [
      "\u001b[0;31m---------------------------------------------------------------------------\u001b[0m",
      "\u001b[0;31merror\u001b[0m                                     Traceback (most recent call last)",
      "Cell \u001b[0;32mIn[1], line 4\u001b[0m\n\u001b[1;32m      1\u001b[0m \u001b[38;5;28;01mimport\u001b[39;00m \u001b[38;5;21;01mcv2\u001b[39;00m\n\u001b[1;32m      3\u001b[0m img \u001b[38;5;241m=\u001b[39m cv2\u001b[38;5;241m.\u001b[39mimread(\u001b[38;5;124m'\u001b[39m\u001b[38;5;124mimage.jpg\u001b[39m\u001b[38;5;124m'\u001b[39m)\n\u001b[0;32m----> 4\u001b[0m \u001b[43mcv2\u001b[49m\u001b[38;5;241;43m.\u001b[39;49m\u001b[43mimshow\u001b[49m\u001b[43m(\u001b[49m\u001b[38;5;124;43m'\u001b[39;49m\u001b[38;5;124;43mImage\u001b[39;49m\u001b[38;5;124;43m'\u001b[39;49m\u001b[43m,\u001b[49m\u001b[43m \u001b[49m\u001b[43mimg\u001b[49m\u001b[43m)\u001b[49m\n\u001b[1;32m      5\u001b[0m cv2\u001b[38;5;241m.\u001b[39mwaitKey(\u001b[38;5;241m0\u001b[39m)\n\u001b[1;32m      6\u001b[0m cv2\u001b[38;5;241m.\u001b[39mdestroyAllWindows()\n",
      "\u001b[0;31merror\u001b[0m: OpenCV(4.8.1) /io/opencv/modules/highgui/src/window.cpp:971: error: (-215:Assertion failed) size.width>0 && size.height>0 in function 'imshow'\n"
     ]
    }
   ],
   "source": [
    "import cv2\n",
    "\n",
    "img = cv2.imread('image.jpg')\n",
    "cv2.imshow('Image', img)\n",
    "cv2.waitKey(0)\n",
    "cv2.destroyAllWindows()"
   ]
  },
  {
   "cell_type": "markdown",
   "metadata": {},
   "source": [
    "## 1.2. Создание изображений\n",
    "\n",
    "Изображения можно создавать с помощью библиотеки NumPy.\n",
    "\n",
    "Методы: \n",
    "\n",
    "- `np.zeros()`: создание массива нулей\n",
    "- `np.full()`: создание массива с заданным значением"
   ]
  },
  {
   "cell_type": "code",
   "execution_count": 2,
   "metadata": {},
   "outputs": [],
   "source": [
    "import numpy as np\n",
    "import cv2\n",
    "\n",
    "# Создание черного изображения размером 200x200\n",
    "img = np.zeros((200, 200, 3), np.uint8)\n",
    "\n",
    "# Создание белого изображения размером 200x200\n",
    "img = np.full((200, 200, 3), 255, np.uint8)\n",
    "\n",
    "# Вывод изображения на экран\n",
    "cv2.imshow('Image', img)\n",
    "cv2.waitKey(5000)\n",
    "cv2.destroyAllWindows()"
   ]
  },
  {
   "cell_type": "markdown",
   "metadata": {},
   "source": [
    "## 1.3. Фильтры изображений\n",
    "Фильтры изображений используются для обработки изображений и удаления шума.\n",
    "\n",
    "- `cv2.blur()` - Простое размытие изображения\n",
    "Параметры:\n",
    "  - `src`: исходное изображение\n",
    "  - `ksize`: размер ядра размытия (например, (5, 5) для размытия 5x5 пикселей)\n",
    "Возвращает: размытое изображение\n",
    "Пример: cv2.blur(img, (5, 5))\n",
    "\n",
    "- `cv2.medianBlur()` - Медианный фильтр\n",
    "Параметры:\n",
    "  - `src`: исходное изображение\n",
    "  - `ksize`: размер ядра медианного фильтра (например, 5 для медианного фильтра 5x5 пикселей)\n",
    "Возвращает: изображение после применения медианного фильтра\n",
    "Пример: cv2.medianBlur(img, 5)\n",
    "\n",
    "- `cv2.GaussianBlur()` - Размытие по Гауссу\n",
    "Параметры:\n",
    "  - `src`: исходное изображение\n",
    "  - `ksize`: размер ядра размытия по Гауссу (например, (5, 5) для размытия 5x5 пикселей)\n",
    "  - `sigmaX`: стандартное отклонение по оси X (по умолчанию 0)\n",
    "  - `sigmaY`: стандартное отклонение по оси Y (по умолчанию 0)\n",
    "Возвращает: размытое изображение\n"
   ]
  },
  {
   "cell_type": "code",
   "execution_count": null,
   "metadata": {},
   "outputs": [],
   "source": [
    "import cv2\n",
    "\n",
    "img = cv2.imread('image.jpg')\n",
    "\n",
    "# Простое размытие изображения\n",
    "blurred_img = cv2.blur(img, (5, 5))\n",
    "\n",
    "# Медианный фильтр\n",
    "median_blurred_img = cv2.medianBlur(img, 5)\n",
    "\n",
    "# Размытие по Гауссу\n",
    "gaussian_blurred_img = cv2.GaussianBlur(img, (5, 5), 0)\n",
    "\n",
    "# Вывод изображений на экран\n",
    "cv2.imshow('Original', img)\n",
    "cv2.imshow('Blurred', blurred_img)\n",
    "cv2.imshow('Median Blurred', median_blurred_img)\n",
    "cv2.imshow('Gaussian Blurred', gaussian_blurred_img)\n",
    "cv2.waitKey(0)\n",
    "cv2.destroyAllWindows()"
   ]
  },
  {
   "cell_type": "markdown",
   "metadata": {},
   "source": [
    "## 1.4. Сглаживание изображений\n",
    "Сглаживание изображений используется для удаления шума и улучшения качества изображения.\n",
    "\n",
    "Методы\n",
    "\n",
    "`cv2.bilateralFilter()`: двусторонний фильтр"
   ]
  },
  {
   "cell_type": "code",
   "execution_count": null,
   "metadata": {},
   "outputs": [],
   "source": [
    "import cv2\n",
    "\n",
    "img = cv2.imread('image.jpg')\n",
    "\n",
    "# Двусторонний фильтр\n",
    "bilateral_filtered_img = cv2.bilateralFilter(img, 5, 50, 50)\n",
    "\n",
    "# Вывод изображений на экран\n",
    "cv2.imshow('Original', img)\n",
    "cv2.imshow('Bilateral Filtered', bilateral_filtered_img)\n",
    "cv2.waitKey(0)\n",
    "cv2.destroyAllWindows()"
   ]
  },
  {
   "cell_type": "markdown",
   "metadata": {},
   "source": [
    "## 1.5. Обработка изображений в реальном времени\n",
    "Обработка изображений в реальном времени - это процесс обработки изображений в режиме реального времени, например, с помощью камеры.\n",
    "\n",
    "Методы\n",
    "\n",
    "- `cv2.VideoCapture()`: чтение видеопотока из файла или камеры\n",
    "- `cv2.imshow()`: отображение изображения в окне\n",
    "- `cv2.waitKey()`: ожидание нажатия клавиши"
   ]
  },
  {
   "cell_type": "code",
   "execution_count": null,
   "metadata": {},
   "outputs": [],
   "source": [
    "import cv2\n",
    "\n",
    "# Чтение видеопотока из камеры\n",
    "cap = cv2.VideoCapture(0)\n",
    "\n",
    "while True:\n",
    "    # Чтение кадра из видеопотока\n",
    "    ret, frame = cap.read()\n",
    "\n",
    "    # Обработка кадра\n",
    "    gray = cv2.cvtColor(frame, cv2.COLOR_BGR2GRAY)\n",
    "\n",
    "    # Отображение кадра\n",
    "    cv2.imshow('Кадр', gray)\n",
    "\n",
    "    # Ожидание нажатия клавиши\n",
    "    if cv2.waitKey(1) & 0xFF == ord('q'):\n",
    "        break\n",
    "\n",
    "# Закрытие окна\n",
    "cv2.destroyAllWindows()"
   ]
  },
  {
   "cell_type": "markdown",
   "metadata": {},
   "source": [
    "## Работаем самостоятельно"
   ]
  },
  {
   "cell_type": "markdown",
   "metadata": {},
   "source": [
    "### Задача №1.1\n",
    "\n",
    "С помощью средств библиотек OpenCV и NumPy создайте изображение шахматной доски шириной в 5 клетки и длиной в 5 клеток. Пусть верхний левый квадрат будет фиолетовым, а его сосед справа - белым. Дальше чередуйте эти цвета в шахматном порядке. Сохраните его на компьютере (с помощью `imwrite`)."
   ]
  },
  {
   "cell_type": "code",
   "execution_count": null,
   "metadata": {},
   "outputs": [],
   "source": [
    "## TODO"
   ]
  },
  {
   "cell_type": "markdown",
   "metadata": {},
   "source": [
    "### Задача №1.2\n",
    "\n",
    "Используя известные Вам фильтры, очистить изображение от белых точек\n",
    "\n",
    "<p align=\"center\">\n",
    "  <img width=\"600\" height=\"480\" src=\"/home/work/catkin_ws/src/ETU_RoboHub/assets/opencv/img_to_clean_opencv.png\">\n",
    "</p>\n"
   ]
  },
  {
   "cell_type": "code",
   "execution_count": null,
   "metadata": {},
   "outputs": [],
   "source": [
    "## TODO"
   ]
  },
  {
   "cell_type": "markdown",
   "metadata": {},
   "source": [
    "## 2.1. Пороговая обработка\n",
    "\n",
    "Пороговая обработка - это процесс преобразования изображения в бинарное изображение, где пиксели имеют значения либо 0 (чёрный), либо 255 (белый). Это полезно для отделения объектов от фона.\n",
    "\n",
    "Методы\n",
    "\n",
    "- `cv2.threshold()`: порог к изображению\n",
    "- `cv2.THRESH_BINARY`: бинарный порог\n",
    "- `cv2.THRESH_BINARY_INV`: инверсный бинарный порог\n",
    "- `cv2.THRESH_TRUNC`: обрезает значения пикселей выше порога\n",
    "- `cv2.THRESH_TOZERO`: устанавливает значения пикселей ниже порога в 0\n",
    "- `cv2.THRESH_TOZERO_INV`: устанавливает значения пикселей выше порога в 0"
   ]
  },
  {
   "cell_type": "code",
   "execution_count": null,
   "metadata": {},
   "outputs": [],
   "source": [
    "import cv2\n",
    "\n",
    "img = cv2.imread('image.jpg')\n",
    "\n",
    "# Применение бинарного порога\n",
    "_, thresh = cv2.threshold(img, 127, 255, cv2.THRESH_BINARY)\n",
    "\n",
    "# Применение инверсного бинарного порога\n",
    "_, thresh_inv = cv2.threshold(img, 127, 255, cv2.THRESH_BINARY_INV)\n",
    "\n",
    "# Отображение результатов\n",
    "cv2.imshow('Оригинал', img)\n",
    "cv2.imshow('Пороговое', thresh)\n",
    "cv2.imshow('Инверсное пороговое', thresh_inv)\n",
    "cv2.waitKey(0)\n",
    "cv2.destroyAllWindows()"
   ]
  },
  {
   "cell_type": "markdown",
   "metadata": {},
   "source": [
    "## 2.2. Адаптивная пороговая обработка\n",
    "\n",
    "Адаптивная пороговая обработка - это процесс пороговой обработки изображения на основе локальных значений пикселей. Это полезно для изображений с переменными условиями освещения.\n",
    "\n",
    "Методы\n",
    "\n",
    "- `cv2.adaptiveThreshold()`:  адаптивный порог к изображению\n",
    "- `cv2.ADAPTIVE_THRESH_MEAN_C`: использует среднее значение соседних пикселей как порог\n",
    "- `cv2.ADAPTIVE_THRESH_GAUSSIAN_C`: использует взвешенную сумму соседних пикселей как порог\n"
   ]
  },
  {
   "cell_type": "code",
   "execution_count": null,
   "metadata": {},
   "outputs": [],
   "source": [
    "import cv2\n",
    "\n",
    "# Чтение изображения\n",
    "img = cv2.imread('image.jpg')\n",
    "\n",
    "# Применение адаптивного порога с использованием среднего значения\n",
    "thresh_mean = cv2.adaptiveThreshold(img, 255, cv2.ADAPTIVE_THRESH_MEAN_C, cv2.THRESH_BINARY, 11, 2)\n",
    "\n",
    "# Применение адаптивного порога с использованием взвешенной суммы\n",
    "thresh_gaussian = cv2.adaptiveThreshold(img, 255, cv2.ADAPTIVE_THRESH_GAUSSIAN_C, cv2.THRESH_BINARY, 11, 2)\n",
    "\n",
    "# Отображение результатов\n",
    "cv2.imshow('Оригинал', img)\n",
    "cv2.imshow('Адаптивное пороговое (среднее)', thresh_mean)\n",
    "cv2.imshow('Адаптивное пороговое (взвешенная сумма)', thresh_gaussian)\n",
    "cv2.waitKey(0)\n",
    "cv2.destroyAllWindows()"
   ]
  },
  {
   "cell_type": "markdown",
   "metadata": {},
   "source": [
    "## 2.3. Обнаружение границ\n",
    "Обнаружение границ - это процесс нахождения границ между объектами на изображении.\n",
    "\n",
    "Методы\n",
    "\n",
    "- `cv2.Canny()`: применяет алгоритм обнаружения границ Кенни\n",
    "- `cv2.Sobel()`: применяет алгоритм обнаружения границ Собеля"
   ]
  },
  {
   "cell_type": "code",
   "execution_count": null,
   "metadata": {},
   "outputs": [],
   "source": [
    "import cv2\n",
    "\n",
    "# Чтение изображения\n",
    "img = cv2.imread('image.jpg')\n",
    "\n",
    "# Применение алгоритма обнаружения границ Кенни\n",
    "edges_canny = cv2.Canny(img, 50, 150)\n",
    "\n",
    "# Применение алгоритма обнаружения границ Собеля\n",
    "edges_sobel = cv2.Sobel(img, cv2.CV_8U, 1, 0, ksize=3)\n",
    "\n",
    "# Отображение результатов\n",
    "cv2.imshow('Оригинал', img)\n",
    "cv2.imshow('Границы Кенни', edges_canny)\n",
    "cv2.imshow('Границы Собеля', edges_sobel)\n",
    "cv2.waitKey(0)\n",
    "cv2.destroyAllWindows()"
   ]
  },
  {
   "cell_type": "markdown",
   "metadata": {},
   "source": [
    "## 2.4. Обнаружение контуров\n",
    "\n",
    "Обнаружение контуров - это процесс нахождения границ объектов на изображении.\n",
    "\n",
    "Методы\n",
    "\n",
    "- `cv2.findContours()`: находит контуры на изображении\n",
    "- `cv2.drawContours()`: рисует контуры на изображении"
   ]
  },
  {
   "cell_type": "markdown",
   "metadata": {},
   "source": [
    "Параметры функции `cv2.findContours()`\n",
    "\n",
    "- `image`: изображение, на котором нужно найти контуры\n",
    "- `mode`: режим нахождения контуров (например, cv2.RETR_EXTERNAL для нахождения внешних контуров)\n",
    "- `method`: метод нахождения контуров (например, cv2.CHAIN_APPROX_SIMPLE для упрощения контуров)\n",
    "\n",
    "Параметры функции `cv2.drawContours()`\n",
    "\n",
    "-`image`: изображение, на котором нужно нарисовать контуры\n",
    "-`contours`: контуры, которые нужно нарисовать\n",
    "-`index`: индекс контура, который нужно нарисовать (например, -1 для рисования всех контуров)\n",
    "-`color`: цвет, которым нужно рисовать контуры\n",
    "-`thickness`: толщина контуров\n",
    "\n",
    "Примечания\n",
    "\n",
    "Функция `cv2.findContours()` возвращает список контуров и иерархию контуров.\n",
    "Функция `cv2.drawContours()` рисует контуры на изображении."
   ]
  },
  {
   "cell_type": "code",
   "execution_count": null,
   "metadata": {},
   "outputs": [],
   "source": [
    "import cv2\n",
    "\n",
    "# Чтение изображения\n",
    "img = cv2.imread('image.jpg')\n",
    "\n",
    "# Преобразование изображения в градации серого\n",
    "gray = cv2.cvtColor(img, cv2.COLOR_BGR2GRAY)\n",
    "\n",
    "# Применение пороговой обработки\n",
    "_, thresh = cv2.threshold(gray, 127, 255, cv2.THRESH_BINARY)\n",
    "\n",
    "# Нахождение контуров на изображении\n",
    "contours, _ = cv2.findContours(thresh, cv2.RETR_EXTERNAL, cv2.CHAIN_APPROX_SIMPLE)\n",
    "\n",
    "# Рисование контуров на изображении\n",
    "cv2.drawContours(img, contours, -1, (0, 255, 0), 2)\n",
    "\n",
    "# Отображение результатов\n",
    "cv2.imshow('Оригинал', img)\n",
    "cv2.imshow('Контуры', thresh)\n",
    "cv2.waitKey(0)\n",
    "cv2.destroyAllWindows()"
   ]
  },
  {
   "cell_type": "markdown",
   "metadata": {},
   "source": [
    "## 2.5. Фильтрация изображений\n",
    "Фильтрация изображений - это процесс модификации изображения для улучшения или удаления определенных особенностей.\n",
    "\n",
    "Методы\n",
    "\n",
    "- `cv2.blur()`: применяет простой фильтр размытия\n",
    "- `cv2.GaussianBlur()`: применяет фильтр размытия по Гауссу\n",
    "- `cv2.medianBlur()`: применяет фильтр размытия по медиане"
   ]
  },
  {
   "cell_type": "code",
   "execution_count": null,
   "metadata": {},
   "outputs": [],
   "source": [
    "import cv2\n",
    "\n",
    "# Чтение изображения\n",
    "img = cv2.imread('image.jpg')\n",
    "\n",
    "# Применение простого фильтра размытия\n",
    "blurred_img = cv2.blur(img, (5, 5))\n",
    "\n",
    "# Применение фильтра размытия по Гауссу\n",
    "gaussian_blurred_img = cv2.GaussianBlur(img, (5, 5), 0)\n",
    "\n",
    "# Применение фильтра размытия по медиане\n",
    "median_blurred_img = cv2.medianBlur(img, 5)\n",
    "\n",
    "# Отображение результатов\n",
    "cv2.imshow('Оригинал', img)\n",
    "cv2.imshow('Простое размытие', blurred_img)\n",
    "cv2.imshow('Размытие по Гауссу', gaussian_blurred_img)\n",
    "cv2.imshow('Размытие по медиане', median_blurred_img)\n",
    "cv2.waitKey(0)\n",
    "cv2.destroyAllWindows()"
   ]
  },
  {
   "cell_type": "markdown",
   "metadata": {},
   "source": [
    "## Работаем самостоятельно"
   ]
  },
  {
   "cell_type": "markdown",
   "metadata": {},
   "source": [
    "### Задание 2.1\n",
    "\n",
    "Найти и нарисовать контуры на следующем изображении, выделив при этом разными цветами каждую из фигур.\n",
    "\n",
    "<p align=\"center\">\n",
    "  <img width=\"600\" height=\"480\" src=\"/home/work/catkin_ws/src/ETU_RoboHub/assets/opencv/find_contours.png\">\n",
    "</p>\n"
   ]
  },
  {
   "cell_type": "code",
   "execution_count": null,
   "metadata": {},
   "outputs": [],
   "source": [
    "# TODO"
   ]
  },
  {
   "cell_type": "markdown",
   "metadata": {},
   "source": [
    "### Задание 2.2\n",
    "\n",
    "Теперь немного усложним задачу: тебе нужно найти контуры на цветном изображении, выделить их и подписать распознанный цвет объекта\n",
    "\n",
    "<p align=\"center\">\n",
    "  <img width=\"800\" height=\"480\" src=\"/home/work/catkin_ws/src/ETU_RoboHub/assets/opencv/find_cubes.png\">\n",
    "</p>\n"
   ]
  },
  {
   "cell_type": "code",
   "execution_count": null,
   "metadata": {},
   "outputs": [],
   "source": [
    "# TODO"
   ]
  },
  {
   "cell_type": "code",
   "execution_count": null,
   "metadata": {},
   "outputs": [],
   "source": []
  }
 ],
 "metadata": {
  "kernelspec": {
   "display_name": "Python 3",
   "language": "python",
   "name": "python3"
  },
  "language_info": {
   "codemirror_mode": {
    "name": "ipython",
    "version": 3
   },
   "file_extension": ".py",
   "mimetype": "text/x-python",
   "name": "python",
   "nbconvert_exporter": "python",
   "pygments_lexer": "ipython3",
   "version": "3.8.10"
  }
 },
 "nbformat": 4,
 "nbformat_minor": 2
}
